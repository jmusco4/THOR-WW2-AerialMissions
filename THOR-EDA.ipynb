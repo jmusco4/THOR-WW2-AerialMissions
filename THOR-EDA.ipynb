{
 "cells":[
  {
   "cell_type":"markdown",
   "source":[
    "# THOR Data"
   ],
   "attachments":{
    
   },
   "metadata":{
    "datalore":{
     "node_id":"THOR Data",
     "type":"MD",
     "hide_input_from_viewers":false,
     "hide_output_from_viewers":false,
     "sheet_delimiter":true
    }
   }
  },
  {
   "cell_type":"markdown",
   "source":[
    "#### Author: Joe Muscolino\n",
    "#### Last Updated: 10-10-2023"
   ],
   "attachments":{
    
   },
   "metadata":{
    "datalore":{
     "node_id":"3VnViJtPs3rS3RfXoAbhjG",
     "type":"MD",
     "hide_input_from_viewers":true,
     "hide_output_from_viewers":true
    }
   }
  },
  {
   "cell_type":"code",
   "source":[
    "from pandas import DataFrame\n",
    "import pandas as pd\n",
    "import numpy as np\n",
    "from datetime import datetime\n",
    "import matplotlib.pyplot as plt\n",
    "import seaborn as sns"
   ],
   "execution_count":1,
   "outputs":[
    
   ],
   "metadata":{
    "datalore":{
     "node_id":"jahfLsJOCJUem2pyz7e5nh",
     "type":"CODE",
     "hide_input_from_viewers":true,
     "hide_output_from_viewers":true
    }
   }
  },
  {
   "cell_type":"markdown",
   "source":[
    "# Pt 1. Data Cleaning"
   ],
   "attachments":{
    
   },
   "metadata":{
    "datalore":{
     "node_id":"qOt4YcQrQBHoz7cOksx9wh",
     "type":"MD",
     "hide_input_from_viewers":true,
     "hide_output_from_viewers":true
    }
   }
  },
  {
   "cell_type":"code",
   "source":[
    "thor_df = pd.read_csv(\"THOR_WWII_DATA_CLEAN (2).csv\", dtype=\"string\", encoding = \"ISO-8859-1\")\n",
    "thor_df.shape"
   ],
   "execution_count":2,
   "outputs":[
    {
     "data":{
      "text\/plain":[
       "(178281, 58)"
      ]
     },
     "metadata":{
      
     },
     "output_type":"display_data"
    }
   ],
   "metadata":{
    "datalore":{
     "node_id":"W1otga7V7ec9yUz4bPDj21",
     "type":"CODE",
     "hide_input_from_viewers":true,
     "hide_output_from_viewers":true
    }
   }
  },
  {
   "cell_type":"markdown",
   "source":[
    "### Dataset contains 178,281 records of Aerial Bombing Missions"
   ],
   "attachments":{
    
   },
   "metadata":{
    "datalore":{
     "node_id":"KpRHwDN3VjgW4RXoR8z3kp",
     "type":"MD",
     "hide_input_from_viewers":true,
     "hide_output_from_viewers":true
    }
   }
  },
  {
   "cell_type":"code",
   "source":[
    "thor_df.head()"
   ],
   "execution_count":3,
   "outputs":[
    {
     "data":{
      "text\/html":[
       "<div>\n",
       "<style scoped>\n",
       "    .dataframe tbody tr th:only-of-type {\n",
       "        vertical-align: middle;\n",
       "    }\n",
       "\n",
       "    .dataframe tbody tr th {\n",
       "        vertical-align: top;\n",
       "    }\n",
       "\n",
       "    .dataframe thead th {\n",
       "        text-align: right;\n",
       "    }\n",
       "<\/style>\n",
       "<table border=\"1\" class=\"dataframe\">\n",
       "  <thead>\n",
       "    <tr style=\"text-align: right;\">\n",
       "      <th><\/th>\n",
       "      <th>WWII_ID<\/th>\n",
       "      <th>MASTER_INDEX_NUMBER<\/th>\n",
       "      <th>MSNDATE<\/th>\n",
       "      <th>THEATER<\/th>\n",
       "      <th>NAF<\/th>\n",
       "      <th>COUNTRY_FLYING_MISSION<\/th>\n",
       "      <th>TGT_COUNTRY_CODE<\/th>\n",
       "      <th>TGT_COUNTRY<\/th>\n",
       "      <th>TGT_LOCATION<\/th>\n",
       "      <th>TGT_TYPE<\/th>\n",
       "      <th>...<\/th>\n",
       "      <th>CALLSIGN<\/th>\n",
       "      <th>ROUNDS_AMMO<\/th>\n",
       "      <th>SPARES_RETURN_AC<\/th>\n",
       "      <th>WX_FAIL_AC<\/th>\n",
       "      <th>MECH_FAIL_AC<\/th>\n",
       "      <th>MISC_FAIL_AC<\/th>\n",
       "      <th>TARGET_COMMENT<\/th>\n",
       "      <th>MISSION_COMMENTS<\/th>\n",
       "      <th>SOURCE<\/th>\n",
       "      <th>DATABASE_EDIT_COMMENTS<\/th>\n",
       "    <\/tr>\n",
       "  <\/thead>\n",
       "  <tbody>\n",
       "    <tr>\n",
       "      <th>0<\/th>\n",
       "      <td>1<\/td>\n",
       "      <td>&lt;NA&gt;<\/td>\n",
       "      <td>1943-08-15<\/td>\n",
       "      <td>MTO<\/td>\n",
       "      <td>12 AF<\/td>\n",
       "      <td>USA<\/td>\n",
       "      <td>13<\/td>\n",
       "      <td>ITALY<\/td>\n",
       "      <td>SPADAFORA<\/td>\n",
       "      <td>&lt;NA&gt;<\/td>\n",
       "      <td>...<\/td>\n",
       "      <td>&lt;NA&gt;<\/td>\n",
       "      <td>&lt;NA&gt;<\/td>\n",
       "      <td>&lt;NA&gt;<\/td>\n",
       "      <td>&lt;NA&gt;<\/td>\n",
       "      <td>&lt;NA&gt;<\/td>\n",
       "      <td>&lt;NA&gt;<\/td>\n",
       "      <td>&lt;NA&gt;<\/td>\n",
       "      <td>&lt;NA&gt;<\/td>\n",
       "      <td>&lt;NA&gt;<\/td>\n",
       "      <td>&lt;NA&gt;<\/td>\n",
       "    <\/tr>\n",
       "    <tr>\n",
       "      <th>1<\/th>\n",
       "      <td>4285<\/td>\n",
       "      <td>20028<\/td>\n",
       "      <td>1945-02-20<\/td>\n",
       "      <td>PTO<\/td>\n",
       "      <td>5 AF<\/td>\n",
       "      <td>USA<\/td>\n",
       "      <td>&lt;NA&gt;<\/td>\n",
       "      <td>PHILIPPINE ISLANDS<\/td>\n",
       "      <td>PUERTA PRINCESA<\/td>\n",
       "      <td>UNIDENTIFIED TARGET<\/td>\n",
       "      <td>...<\/td>\n",
       "      <td>&lt;NA&gt;<\/td>\n",
       "      <td>&lt;NA&gt;<\/td>\n",
       "      <td>&lt;NA&gt;<\/td>\n",
       "      <td>&lt;NA&gt;<\/td>\n",
       "      <td>&lt;NA&gt;<\/td>\n",
       "      <td>&lt;NA&gt;<\/td>\n",
       "      <td>&lt;NA&gt;<\/td>\n",
       "      <td>&lt;NA&gt;<\/td>\n",
       "      <td>&lt;NA&gt;<\/td>\n",
       "      <td>&lt;NA&gt;<\/td>\n",
       "    <\/tr>\n",
       "    <tr>\n",
       "      <th>2<\/th>\n",
       "      <td>3<\/td>\n",
       "      <td>&lt;NA&gt;<\/td>\n",
       "      <td>1943-08-15<\/td>\n",
       "      <td>MTO<\/td>\n",
       "      <td>12 AF<\/td>\n",
       "      <td>USA<\/td>\n",
       "      <td>13<\/td>\n",
       "      <td>ITALY<\/td>\n",
       "      <td>COSENZA<\/td>\n",
       "      <td>&lt;NA&gt;<\/td>\n",
       "      <td>...<\/td>\n",
       "      <td>&lt;NA&gt;<\/td>\n",
       "      <td>&lt;NA&gt;<\/td>\n",
       "      <td>&lt;NA&gt;<\/td>\n",
       "      <td>&lt;NA&gt;<\/td>\n",
       "      <td>&lt;NA&gt;<\/td>\n",
       "      <td>&lt;NA&gt;<\/td>\n",
       "      <td>&lt;NA&gt;<\/td>\n",
       "      <td>&lt;NA&gt;<\/td>\n",
       "      <td>&lt;NA&gt;<\/td>\n",
       "      <td>&lt;NA&gt;<\/td>\n",
       "    <\/tr>\n",
       "    <tr>\n",
       "      <th>3<\/th>\n",
       "      <td>4<\/td>\n",
       "      <td>&lt;NA&gt;<\/td>\n",
       "      <td>1943-08-15<\/td>\n",
       "      <td>MTO<\/td>\n",
       "      <td>12 AF<\/td>\n",
       "      <td>USA<\/td>\n",
       "      <td>13<\/td>\n",
       "      <td>ITALY<\/td>\n",
       "      <td>GIOJA TAURO<\/td>\n",
       "      <td>&lt;NA&gt;<\/td>\n",
       "      <td>...<\/td>\n",
       "      <td>&lt;NA&gt;<\/td>\n",
       "      <td>&lt;NA&gt;<\/td>\n",
       "      <td>&lt;NA&gt;<\/td>\n",
       "      <td>&lt;NA&gt;<\/td>\n",
       "      <td>&lt;NA&gt;<\/td>\n",
       "      <td>1<\/td>\n",
       "      <td>&lt;NA&gt;<\/td>\n",
       "      <td>&lt;NA&gt;<\/td>\n",
       "      <td>&lt;NA&gt;<\/td>\n",
       "      <td>&lt;NA&gt;<\/td>\n",
       "    <\/tr>\n",
       "    <tr>\n",
       "      <th>4<\/th>\n",
       "      <td>8167<\/td>\n",
       "      <td>14639<\/td>\n",
       "      <td>1945-02-23<\/td>\n",
       "      <td>PTO<\/td>\n",
       "      <td>5 AF<\/td>\n",
       "      <td>USA<\/td>\n",
       "      <td>&lt;NA&gt;<\/td>\n",
       "      <td>PHILIPPINE ISLANDS<\/td>\n",
       "      <td>BALETE PASS<\/td>\n",
       "      <td>WOODED AREA<\/td>\n",
       "      <td>...<\/td>\n",
       "      <td>&lt;NA&gt;<\/td>\n",
       "      <td>&lt;NA&gt;<\/td>\n",
       "      <td>&lt;NA&gt;<\/td>\n",
       "      <td>&lt;NA&gt;<\/td>\n",
       "      <td>&lt;NA&gt;<\/td>\n",
       "      <td>&lt;NA&gt;<\/td>\n",
       "      <td>&lt;NA&gt;<\/td>\n",
       "      <td>&lt;NA&gt;<\/td>\n",
       "      <td>&lt;NA&gt;<\/td>\n",
       "      <td>&lt;NA&gt;<\/td>\n",
       "    <\/tr>\n",
       "  <\/tbody>\n",
       "<\/table>\n",
       "<p>5 rows × 58 columns<\/p>\n",
       "<\/div>"
      ]
     },
     "metadata":{
      
     },
     "output_type":"display_data"
    }
   ],
   "metadata":{
    "datalore":{
     "node_id":"0LaUo1cAXBVpCTGGzop5g6",
     "type":"CODE",
     "hide_input_from_viewers":true,
     "hide_output_from_viewers":true
    }
   }
  },
  {
   "cell_type":"code",
   "source":[
    "thor_df.info()"
   ],
   "execution_count":4,
   "outputs":[
    {
     "name":"stdout",
     "text":[
      "<class 'pandas.core.frame.DataFrame'>\n",
      "RangeIndex: 178281 entries, 0 to 178280\n",
      "Data columns (total 58 columns):\n",
      " #   Column                    Non-Null Count   Dtype \n",
      "---  ------                    --------------   ----- \n",
      " 0   WWII_ID                   178281 non-null  string\n",
      " 1   MASTER_INDEX_NUMBER       174236 non-null  string\n",
      " 2   MSNDATE                   178281 non-null  string\n",
      " 3   THEATER                   175123 non-null  string\n",
      " 4   NAF                       126444 non-null  string\n",
      " 5   COUNTRY_FLYING_MISSION    126494 non-null  string\n",
      " 6   TGT_COUNTRY_CODE          129357 non-null  string\n",
      " 7   TGT_COUNTRY               177682 non-null  string\n",
      " 8   TGT_LOCATION              176018 non-null  string\n",
      " 9   TGT_TYPE                  146369 non-null  string\n",
      " 10  TGT_ID                    127401 non-null  string\n",
      " 11  TGT_INDUSTRY_CODE         127907 non-null  string\n",
      " 12  TGT_INDUSTRY              126479 non-null  string\n",
      " 13  LATITUDE                  169565 non-null  string\n",
      " 14  LONGITUDE                 169543 non-null  string\n",
      " 15  UNIT_ID                   50913 non-null   string\n",
      " 16  MDS                       178165 non-null  string\n",
      " 17  AIRCRAFT_NAME             178142 non-null  string\n",
      " 18  MSN_TYPE                  47185 non-null   string\n",
      " 19  TGT_PRIORITY              134716 non-null  string\n",
      " 20  TGT_PRIORITY_EXPLANATION  87932 non-null   string\n",
      " 21  AC_ATTACKING              125114 non-null  string\n",
      " 22  ALTITUDE                  120822 non-null  string\n",
      " 23  ALTITUDE_FEET             65736 non-null   string\n",
      " 24  NUMBER_OF_HE              34738 non-null   string\n",
      " 25  TYPE_OF_HE                41946 non-null   string\n",
      " 26  LBS_HE                    2021 non-null    string\n",
      " 27  TONS_OF_HE                146201 non-null  string\n",
      " 28  NUMBER_OF_IC              3278 non-null    string\n",
      " 29  TYPE_OF_IC                5519 non-null    string\n",
      " 30  LBS_IC                    356 non-null     string\n",
      " 31  TONS_OF_IC                25738 non-null   string\n",
      " 32  NUMBER_OF_FRAG            5762 non-null    string\n",
      " 33  TYPE_OF_FRAG              5765 non-null    string\n",
      " 34  LBS_FRAG                  194 non-null     string\n",
      " 35  TONS_OF_FRAG              16908 non-null   string\n",
      " 36  TOTAL_LBS                 2118 non-null    string\n",
      " 37  TOTAL_TONS                166509 non-null  string\n",
      " 38  TAKEOFF_BASE              3379 non-null    string\n",
      " 39  TAKEOFF_COUNTRY           3338 non-null    string\n",
      " 40  AC_LOST                   157 non-null     string\n",
      " 41  AC_DAMAGED                38 non-null      string\n",
      " 42  AC_AIRBORNE               82248 non-null   string\n",
      " 43  AC_DROPPING               81612 non-null   string\n",
      " 44  TIME_OVER_TARGET          684 non-null     string\n",
      " 45  SIGHTING_METHOD_CODE      98340 non-null   string\n",
      " 46  SIGHTING_EXPLANATION      43971 non-null   string\n",
      " 47  BDA                       104 non-null     string\n",
      " 48  CALLSIGN                  21 non-null      string\n",
      " 49  ROUNDS_AMMO               1 non-null       string\n",
      " 50  SPARES_RETURN_AC          133 non-null     string\n",
      " 51  WX_FAIL_AC                186 non-null     string\n",
      " 52  MECH_FAIL_AC              42 non-null      string\n",
      " 53  MISC_FAIL_AC              82 non-null      string\n",
      " 54  TARGET_COMMENT            53 non-null      string\n",
      " 55  MISSION_COMMENTS          19 non-null      string\n",
      " 56  SOURCE                    88 non-null      string\n",
      " 57  DATABASE_EDIT_COMMENTS    562 non-null     string\n",
      "dtypes: string(58)\n",
      "memory usage: 78.9 MB\n"
     ],
     "output_type":"stream"
    }
   ],
   "metadata":{
    "datalore":{
     "node_id":"UPRXsJDV27rNdISUBVOdlg",
     "type":"CODE",
     "hide_input_from_viewers":true,
     "hide_output_from_viewers":true
    }
   }
  },
  {
   "cell_type":"code",
   "source":[
    "# Calculate the average missing rate in the sales column.\n",
    "missing_data = thor_df.isna().mean()\n",
    "\n",
    "# Convert the missing_sales from a decimal to a percentage and round to 2 decimal places.\n",
    "missing_data = round(missing_data*100, 2)\n",
    "missing_data"
   ],
   "execution_count":5,
   "outputs":[
    {
     "data":{
      "text\/html":[
       "<pre>WWII_ID                       0.00\n",
       "MASTER_INDEX_NUMBER           2.27\n",
       "MSNDATE                       0.00\n",
       "THEATER                       1.77\n",
       "NAF                          29.08\n",
       "COUNTRY_FLYING_MISSION       29.05\n",
       "TGT_COUNTRY_CODE             27.44\n",
       "TGT_COUNTRY                   0.34\n",
       "TGT_LOCATION                  1.27\n",
       "TGT_TYPE                     17.90\n",
       "TGT_ID                       28.54\n",
       "TGT_INDUSTRY_CODE            28.26\n",
       "TGT_INDUSTRY                 29.06\n",
       "LATITUDE                      4.89\n",
       "LONGITUDE                     4.90\n",
       "UNIT_ID                      71.44\n",
       "MDS                           0.07\n",
       "AIRCRAFT_NAME                 0.08\n",
       "MSN_TYPE                     73.53\n",
       "TGT_PRIORITY                 24.44\n",
       "TGT_PRIORITY_EXPLANATION     50.68\n",
       "AC_ATTACKING                 29.82\n",
       "ALTITUDE                     32.23\n",
       "ALTITUDE_FEET                63.13\n",
       "NUMBER_OF_HE                 80.52\n",
       "TYPE_OF_HE                   76.47\n",
       "LBS_HE                       98.87\n",
       "TONS_OF_HE                   17.99\n",
       "NUMBER_OF_IC                 98.16\n",
       "TYPE_OF_IC                   96.90\n",
       "LBS_IC                       99.80\n",
       "TONS_OF_IC                   85.56\n",
       "NUMBER_OF_FRAG               96.77\n",
       "TYPE_OF_FRAG                 96.77\n",
       "LBS_FRAG                     99.89\n",
       "TONS_OF_FRAG                 90.52\n",
       "TOTAL_LBS                    98.81\n",
       "TOTAL_TONS                    6.60\n",
       "TAKEOFF_BASE                 98.10\n",
       "TAKEOFF_COUNTRY              98.13\n",
       "AC_LOST                      99.91\n",
       "AC_DAMAGED                   99.98\n",
       "AC_AIRBORNE                  53.87\n",
       "AC_DROPPING                  54.22\n",
       "TIME_OVER_TARGET             99.62\n",
       "SIGHTING_METHOD_CODE         44.84\n",
       "SIGHTING_EXPLANATION         75.34\n",
       "BDA                          99.94\n",
       "CALLSIGN                     99.99\n",
       "ROUNDS_AMMO                 100.00\n",
       "SPARES_RETURN_AC             99.93\n",
       "WX_FAIL_AC                   99.90\n",
       "MECH_FAIL_AC                 99.98\n",
       "MISC_FAIL_AC                 99.95\n",
       "TARGET_COMMENT               99.97\n",
       "MISSION_COMMENTS             99.99\n",
       "SOURCE                       99.95\n",
       "DATABASE_EDIT_COMMENTS       99.68\n",
       "dtype: float64<\/pre>"
      ]
     },
     "metadata":{
      
     },
     "output_type":"display_data"
    }
   ],
   "metadata":{
    "datalore":{
     "node_id":"hKun4IKKTi4v5uTblg80Tf",
     "type":"CODE",
     "hide_input_from_viewers":true,
     "hide_output_from_viewers":true
    }
   }
  },
  {
   "cell_type":"markdown",
   "source":[
    
   ],
   "attachments":{
    
   },
   "metadata":{
    "datalore":{
     "node_id":"5QOG9OxnLRaU4YK53WUkUY",
     "type":"MD",
     "hide_input_from_viewers":true,
     "hide_output_from_viewers":true
    }
   }
  },
  {
   "cell_type":"markdown",
   "source":[
    "### Remove columns where at least 96% of the data is missing. "
   ],
   "attachments":{
    
   },
   "metadata":{
    "datalore":{
     "node_id":"s6ZgZZ5eDrAI6cTSEJnqXg",
     "type":"MD",
     "hide_input_from_viewers":true,
     "hide_output_from_viewers":true
    }
   }
  },
  {
   "cell_type":"code",
   "source":[
    "# Parse index of previous missing_data and check how much data is missing from column, if 98% or more is missing, drop it. \n",
    "for col in missing_data.index:\n",
    "    if missing_data[col] >= 96:\n",
    "        thor_df.drop(columns=[col], inplace=True)"
   ],
   "execution_count":6,
   "outputs":[
    
   ],
   "metadata":{
    "datalore":{
     "node_id":"wVU07R8tIX089SCA089Kta",
     "type":"CODE",
     "hide_input_from_viewers":true,
     "hide_output_from_viewers":true
    }
   }
  },
  {
   "cell_type":"markdown",
   "source":[
    
   ],
   "attachments":{
    
   },
   "metadata":{
    "datalore":{
     "node_id":"sMrjUZAb2T08CxoLr388BL",
     "type":"MD",
     "hide_input_from_viewers":true,
     "hide_output_from_viewers":true
    }
   }
  },
  {
   "cell_type":"markdown",
   "source":[
    "### Drop DataFrame rows where *COUNTRY_FLYING_MISSION* is null."
   ],
   "attachments":{
    
   },
   "metadata":{
    "datalore":{
     "node_id":"8UGEmp0iQaqdkecMZhYFEs",
     "type":"MD",
     "hide_input_from_viewers":true,
     "hide_output_from_viewers":true
    }
   }
  },
  {
   "cell_type":"code",
   "source":[
    "# Drop DataFrame rows where COUNTRY_FLYING_MISSION is null.\n",
    "thor_df = thor_df.dropna(subset=\"COUNTRY_FLYING_MISSION\")\n",
    "thor_df.shape"
   ],
   "execution_count":7,
   "outputs":[
    {
     "data":{
      "text\/plain":[
       "(126494, 34)"
      ]
     },
     "metadata":{
      
     },
     "output_type":"display_data"
    }
   ],
   "metadata":{
    "datalore":{
     "node_id":"ikbSaPYzwK9R9xlY0PbCJ3",
     "type":"CODE",
     "hide_input_from_viewers":true,
     "hide_output_from_viewers":true
    }
   }
  },
  {
   "cell_type":"markdown",
   "source":[
    
   ],
   "attachments":{
    
   },
   "metadata":{
    "datalore":{
     "node_id":"OTuJmkaJtspreWCSA9axEe",
     "type":"MD",
     "hide_input_from_viewers":true,
     "hide_output_from_viewers":true
    }
   }
  },
  {
   "cell_type":"markdown",
   "source":[
    "### Convert DataFrame column values"
   ],
   "attachments":{
    
   },
   "metadata":{
    "datalore":{
     "node_id":"gcUHgruFCAgr4ajiyYCz6G",
     "type":"MD",
     "hide_input_from_viewers":true,
     "hide_output_from_viewers":true
    }
   }
  },
  {
   "cell_type":"code",
   "source":[
    "# Convert columns to float\n",
    "thor_df[[\"TOTAL_TONS\", \"TONS_OF_HE\", \"AC_AIRBORNE\", \"AC_DROPPING\", \"ALTITUDE\", \"AC_ATTACKING\"]] = \\\n",
    "    thor_df[[\"TOTAL_TONS\", \"TONS_OF_HE\", \"AC_AIRBORNE\", \"AC_DROPPING\", \"ALTITUDE\", \"AC_ATTACKING\"]].astype(\"float\")\n",
    "\n",
    "# Convert column to Datetime\n",
    "thor_df[\"MSNDATE\"] = pd.to_datetime(thor_df[\"MSNDATE\"])"
   ],
   "execution_count":8,
   "outputs":[
    
   ],
   "metadata":{
    "datalore":{
     "node_id":"D9TafvR06S2zwXpcNT4aKE",
     "type":"CODE",
     "hide_input_from_viewers":true,
     "hide_output_from_viewers":true
    }
   }
  },
  {
   "cell_type":"code",
   "source":[
    "# Replace missing column values with 'Other'\n",
    "thor_df[[\"TGT_COUNTRY\", \"TGT_INDUSTRY\", \"THEATER\", \"NAF\", \"TGT_LOCATION\", \"AIRCRAFT_NAME\"]] = \\\n",
    "    thor_df[[\"TGT_COUNTRY\", \"TGT_INDUSTRY\", \"THEATER\", \"NAF\", \"TGT_LOCATION\", \"AIRCRAFT_NAME\"]].replace(np.nan, \"Other\")"
   ],
   "execution_count":9,
   "outputs":[
    
   ],
   "metadata":{
    "datalore":{
     "node_id":"8igiqt98AYMCzZ9IH36jXE",
     "type":"CODE",
     "hide_input_from_viewers":true,
     "hide_output_from_viewers":true
    }
   }
  },
  {
   "cell_type":"markdown",
   "source":[
    
   ],
   "attachments":{
    
   },
   "metadata":{
    "datalore":{
     "node_id":"n10cizQUuhViTBSevWx83Z",
     "type":"MD",
     "hide_input_from_viewers":true,
     "hide_output_from_viewers":true
    }
   }
  },
  {
   "cell_type":"markdown",
   "source":[
    "### Add new columns"
   ],
   "attachments":{
    
   },
   "metadata":{
    "datalore":{
     "node_id":"oKKfmO97veo3cQIZGhcxjd",
     "type":"MD",
     "hide_input_from_viewers":true,
     "hide_output_from_viewers":true
    }
   }
  },
  {
   "cell_type":"code",
   "source":[
    "# Create new columns for Month and Year of Mission\n",
    "thor_df[\"MSNMONTH\"] = thor_df[\"MSNDATE\"].dt.strftime('%Y-%m')\n",
    "thor_df[\"MSNYEAR\"] = thor_df[\"MSNDATE\"].dt.strftime('%Y')"
   ],
   "execution_count":10,
   "outputs":[
    
   ],
   "metadata":{
    "datalore":{
     "node_id":"IvmkIbolOjRoyQCAvQkOJG",
     "type":"CODE",
     "hide_input_from_viewers":true,
     "hide_output_from_viewers":true
    }
   }
  },
  {
   "cell_type":"code",
   "source":[
    "thor_df.info()"
   ],
   "execution_count":11,
   "outputs":[
    {
     "name":"stdout",
     "text":[
      "<class 'pandas.core.frame.DataFrame'>\n",
      "Int64Index: 126494 entries, 0 to 178280\n",
      "Data columns (total 36 columns):\n",
      " #   Column                    Non-Null Count   Dtype         \n",
      "---  ------                    --------------   -----         \n",
      " 0   WWII_ID                   126494 non-null  string        \n",
      " 1   MASTER_INDEX_NUMBER       122449 non-null  string        \n",
      " 2   MSNDATE                   126494 non-null  datetime64[ns]\n",
      " 3   THEATER                   126494 non-null  string        \n",
      " 4   NAF                       126494 non-null  string        \n",
      " 5   COUNTRY_FLYING_MISSION    126494 non-null  string        \n",
      " 6   TGT_COUNTRY_CODE          77572 non-null   string        \n",
      " 7   TGT_COUNTRY               126494 non-null  string        \n",
      " 8   TGT_LOCATION              126494 non-null  string        \n",
      " 9   TGT_TYPE                  118294 non-null  string        \n",
      " 10  TGT_ID                    75624 non-null   string        \n",
      " 11  TGT_INDUSTRY_CODE         76125 non-null   string        \n",
      " 12  TGT_INDUSTRY              126494 non-null  string        \n",
      " 13  LATITUDE                  120543 non-null  string        \n",
      " 14  LONGITUDE                 120521 non-null  string        \n",
      " 15  UNIT_ID                   50912 non-null   string        \n",
      " 16  MDS                       126378 non-null  string        \n",
      " 17  AIRCRAFT_NAME             126494 non-null  string        \n",
      " 18  MSN_TYPE                  47185 non-null   string        \n",
      " 19  TGT_PRIORITY              90247 non-null   string        \n",
      " 20  TGT_PRIORITY_EXPLANATION  43761 non-null   string        \n",
      " 21  AC_ATTACKING              91045 non-null   float64       \n",
      " 22  ALTITUDE                  82977 non-null   float64       \n",
      " 23  ALTITUDE_FEET             54831 non-null   string        \n",
      " 24  NUMBER_OF_HE              34737 non-null   string        \n",
      " 25  TYPE_OF_HE                41946 non-null   string        \n",
      " 26  TONS_OF_HE                100365 non-null  float64       \n",
      " 27  TONS_OF_IC                17456 non-null   string        \n",
      " 28  TONS_OF_FRAG              13769 non-null   string        \n",
      " 29  TOTAL_TONS                116048 non-null  float64       \n",
      " 30  AC_AIRBORNE               48180 non-null   float64       \n",
      " 31  AC_DROPPING               47543 non-null   float64       \n",
      " 32  SIGHTING_METHOD_CODE      46597 non-null   string        \n",
      " 33  SIGHTING_EXPLANATION      15800 non-null   string        \n",
      " 34  MSNMONTH                  126494 non-null  object        \n",
      " 35  MSNYEAR                   126494 non-null  object        \n",
      "dtypes: datetime64[ns](1), float64(6), object(2), string(27)\n",
      "memory usage: 35.7+ MB\n"
     ],
     "output_type":"stream"
    }
   ],
   "metadata":{
    "datalore":{
     "node_id":"AN46r8CvTPRu3BPb6Tq5yV",
     "type":"CODE",
     "hide_input_from_viewers":true,
     "hide_output_from_viewers":true
    }
   }
  },
  {
   "cell_type":"markdown",
   "source":[
    
   ],
   "attachments":{
    
   },
   "metadata":{
    "datalore":{
     "node_id":"Qnc3Zitb9vr234ejrUHhWm",
     "type":"MD",
     "hide_input_from_viewers":true,
     "hide_output_from_viewers":true
    }
   }
  },
  {
   "cell_type":"markdown",
   "source":[
    "### Reformat Allied Country Names so they aren't uppercase.\n",
    "Below are the allied countries included in dataset BEFORE reformatting."
   ],
   "attachments":{
    
   },
   "metadata":{
    "datalore":{
     "node_id":"BEsfl4FlGkjSOZ80VIZYb6",
     "type":"MD",
     "hide_input_from_viewers":true,
     "hide_output_from_viewers":true
    }
   }
  },
  {
   "cell_type":"code",
   "source":[
    "# View list of allied countries included in dataset BEFORE reformatting.\n",
    "print(\"BEFORE:\")\n",
    "print(list(thor_df[\"COUNTRY_FLYING_MISSION\"].unique()), end='\\n\\n')\n",
    "\n",
    "# Reformat String values, and do the same thing to the column TGT_COUNTRY\n",
    "thor_df[\"COUNTRY_FLYING_MISSION\"] = thor_df[\"COUNTRY_FLYING_MISSION\"].str.title()\n",
    "thor_df[\"TGT_COUNTRY\"] = thor_df[\"TGT_COUNTRY\"].str.title()\n",
    "thor_df[\"COUNTRY_FLYING_MISSION\"] = thor_df[\"COUNTRY_FLYING_MISSION\"].replace(\"Usa\", \"USA\")\n",
    "\n",
    "print(\"AFTER:\")\n",
    "print(list(thor_df[\"COUNTRY_FLYING_MISSION\"].unique()))"
   ],
   "execution_count":12,
   "outputs":[
    {
     "name":"stdout",
     "text":[
      "BEFORE:\n",
      "['USA', 'GREAT BRITAIN', 'NEW ZEALAND', 'AUSTRALIA', 'SOUTH AFRICA']\n",
      "\n",
      "AFTER:\n",
      "['USA', 'Great Britain', 'New Zealand', 'Australia', 'South Africa']\n"
     ],
     "output_type":"stream"
    }
   ],
   "metadata":{
    "datalore":{
     "node_id":"NxfdpGwIR52kdtCkzpay57",
     "type":"CODE",
     "hide_input_from_viewers":true,
     "hide_output_from_viewers":true
    }
   }
  },
  {
   "cell_type":"markdown",
   "source":[
    
   ],
   "attachments":{
    
   },
   "metadata":{
    "datalore":{
     "node_id":"P5reNiYGfF2xDqVRplEZBj",
     "type":"MD",
     "hide_input_from_viewers":true,
     "hide_output_from_viewers":true
    }
   }
  },
  {
   "cell_type":"markdown",
   "source":[
    "### Modify THEATER column values to be more descriptive."
   ],
   "attachments":{
    
   },
   "metadata":{
    "datalore":{
     "node_id":"Yd9SciBjoMHUraF6iigqCl",
     "type":"MD",
     "hide_input_from_viewers":true,
     "hide_output_from_viewers":true
    }
   }
  },
  {
   "cell_type":"code",
   "source":[
    "thor_df[\"THEATER\"].unique()"
   ],
   "execution_count":13,
   "outputs":[
    {
     "data":{
      "text\/plain":[
       "<StringArray>\n",
       "['MTO', 'PTO', 'ETO', 'Other', 'CBI', 'EAST AFRICA', 'MADAGASCAR']\n",
       "Length: 7, dtype: string"
      ]
     },
     "metadata":{
      
     },
     "output_type":"display_data"
    }
   ],
   "metadata":{
    "datalore":{
     "node_id":"oNCFf8hcTbTIAKQUoR3rbK",
     "type":"CODE",
     "hide_input_from_viewers":true,
     "hide_output_from_viewers":true
    }
   }
  },
  {
   "cell_type":"code",
   "source":[
    "thor_df[\"THEATER\"] = thor_df[\"THEATER\"].replace(\"ETO\", \"European Theater\")\n",
    "thor_df[\"THEATER\"] = thor_df[\"THEATER\"].replace(\"PTO\", \"Pacific Theater\")\n",
    "thor_df[\"THEATER\"] = thor_df[\"THEATER\"].replace(\"MTO\", \"Mediterranean Theater\")\n",
    "thor_df[\"THEATER\"] = thor_df[\"THEATER\"].replace(\"CBI\", \"China Burma India Theater\")\n",
    "thor_df[\"THEATER\"] = thor_df[\"THEATER\"].replace(\"EAST AFRICA\", \"East Africa\")\n",
    "thor_df[\"THEATER\"] = thor_df[\"THEATER\"].replace(\"MADAGASCAR\", \"Madagascar\")"
   ],
   "execution_count":14,
   "outputs":[
    
   ],
   "metadata":{
    "datalore":{
     "node_id":"1Y2LKP1wOTgiPFu37UY8km",
     "type":"CODE",
     "hide_input_from_viewers":true,
     "hide_output_from_viewers":true
    }
   }
  },
  {
   "cell_type":"code",
   "source":[
    "thor_df.head()"
   ],
   "execution_count":15,
   "outputs":[
    {
     "data":{
      "text\/html":[
       "<div>\n",
       "<style scoped>\n",
       "    .dataframe tbody tr th:only-of-type {\n",
       "        vertical-align: middle;\n",
       "    }\n",
       "\n",
       "    .dataframe tbody tr th {\n",
       "        vertical-align: top;\n",
       "    }\n",
       "\n",
       "    .dataframe thead th {\n",
       "        text-align: right;\n",
       "    }\n",
       "<\/style>\n",
       "<table border=\"1\" class=\"dataframe\">\n",
       "  <thead>\n",
       "    <tr style=\"text-align: right;\">\n",
       "      <th><\/th>\n",
       "      <th>WWII_ID<\/th>\n",
       "      <th>MASTER_INDEX_NUMBER<\/th>\n",
       "      <th>MSNDATE<\/th>\n",
       "      <th>THEATER<\/th>\n",
       "      <th>NAF<\/th>\n",
       "      <th>COUNTRY_FLYING_MISSION<\/th>\n",
       "      <th>TGT_COUNTRY_CODE<\/th>\n",
       "      <th>TGT_COUNTRY<\/th>\n",
       "      <th>TGT_LOCATION<\/th>\n",
       "      <th>TGT_TYPE<\/th>\n",
       "      <th>...<\/th>\n",
       "      <th>TONS_OF_HE<\/th>\n",
       "      <th>TONS_OF_IC<\/th>\n",
       "      <th>TONS_OF_FRAG<\/th>\n",
       "      <th>TOTAL_TONS<\/th>\n",
       "      <th>AC_AIRBORNE<\/th>\n",
       "      <th>AC_DROPPING<\/th>\n",
       "      <th>SIGHTING_METHOD_CODE<\/th>\n",
       "      <th>SIGHTING_EXPLANATION<\/th>\n",
       "      <th>MSNMONTH<\/th>\n",
       "      <th>MSNYEAR<\/th>\n",
       "    <\/tr>\n",
       "  <\/thead>\n",
       "  <tbody>\n",
       "    <tr>\n",
       "      <th>0<\/th>\n",
       "      <td>1<\/td>\n",
       "      <td>&lt;NA&gt;<\/td>\n",
       "      <td>1943-08-15<\/td>\n",
       "      <td>Mediterranean Theater<\/td>\n",
       "      <td>12 AF<\/td>\n",
       "      <td>USA<\/td>\n",
       "      <td>13<\/td>\n",
       "      <td>Italy<\/td>\n",
       "      <td>SPADAFORA<\/td>\n",
       "      <td>&lt;NA&gt;<\/td>\n",
       "      <td>...<\/td>\n",
       "      <td>10.0<\/td>\n",
       "      <td>&lt;NA&gt;<\/td>\n",
       "      <td>&lt;NA&gt;<\/td>\n",
       "      <td>10.0<\/td>\n",
       "      <td>20.0<\/td>\n",
       "      <td>20.0<\/td>\n",
       "      <td>&lt;NA&gt;<\/td>\n",
       "      <td>&lt;NA&gt;<\/td>\n",
       "      <td>1943-08<\/td>\n",
       "      <td>1943<\/td>\n",
       "    <\/tr>\n",
       "    <tr>\n",
       "      <th>1<\/th>\n",
       "      <td>4285<\/td>\n",
       "      <td>20028<\/td>\n",
       "      <td>1945-02-20<\/td>\n",
       "      <td>Pacific Theater<\/td>\n",
       "      <td>5 AF<\/td>\n",
       "      <td>USA<\/td>\n",
       "      <td>&lt;NA&gt;<\/td>\n",
       "      <td>Philippine Islands<\/td>\n",
       "      <td>PUERTA PRINCESA<\/td>\n",
       "      <td>UNIDENTIFIED TARGET<\/td>\n",
       "      <td>...<\/td>\n",
       "      <td>NaN<\/td>\n",
       "      <td>&lt;NA&gt;<\/td>\n",
       "      <td>&lt;NA&gt;<\/td>\n",
       "      <td>NaN<\/td>\n",
       "      <td>NaN<\/td>\n",
       "      <td>NaN<\/td>\n",
       "      <td>&lt;NA&gt;<\/td>\n",
       "      <td>&lt;NA&gt;<\/td>\n",
       "      <td>1945-02<\/td>\n",
       "      <td>1945<\/td>\n",
       "    <\/tr>\n",
       "    <tr>\n",
       "      <th>2<\/th>\n",
       "      <td>3<\/td>\n",
       "      <td>&lt;NA&gt;<\/td>\n",
       "      <td>1943-08-15<\/td>\n",
       "      <td>Mediterranean Theater<\/td>\n",
       "      <td>12 AF<\/td>\n",
       "      <td>USA<\/td>\n",
       "      <td>13<\/td>\n",
       "      <td>Italy<\/td>\n",
       "      <td>COSENZA<\/td>\n",
       "      <td>&lt;NA&gt;<\/td>\n",
       "      <td>...<\/td>\n",
       "      <td>9.0<\/td>\n",
       "      <td>&lt;NA&gt;<\/td>\n",
       "      <td>&lt;NA&gt;<\/td>\n",
       "      <td>9.0<\/td>\n",
       "      <td>18.0<\/td>\n",
       "      <td>36.0<\/td>\n",
       "      <td>&lt;NA&gt;<\/td>\n",
       "      <td>&lt;NA&gt;<\/td>\n",
       "      <td>1943-08<\/td>\n",
       "      <td>1943<\/td>\n",
       "    <\/tr>\n",
       "    <tr>\n",
       "      <th>3<\/th>\n",
       "      <td>4<\/td>\n",
       "      <td>&lt;NA&gt;<\/td>\n",
       "      <td>1943-08-15<\/td>\n",
       "      <td>Mediterranean Theater<\/td>\n",
       "      <td>12 AF<\/td>\n",
       "      <td>USA<\/td>\n",
       "      <td>13<\/td>\n",
       "      <td>Italy<\/td>\n",
       "      <td>GIOJA TAURO<\/td>\n",
       "      <td>&lt;NA&gt;<\/td>\n",
       "      <td>...<\/td>\n",
       "      <td>7.5<\/td>\n",
       "      <td>&lt;NA&gt;<\/td>\n",
       "      <td>&lt;NA&gt;<\/td>\n",
       "      <td>7.5<\/td>\n",
       "      <td>15.0<\/td>\n",
       "      <td>15.0<\/td>\n",
       "      <td>&lt;NA&gt;<\/td>\n",
       "      <td>&lt;NA&gt;<\/td>\n",
       "      <td>1943-08<\/td>\n",
       "      <td>1943<\/td>\n",
       "    <\/tr>\n",
       "    <tr>\n",
       "      <th>4<\/th>\n",
       "      <td>8167<\/td>\n",
       "      <td>14639<\/td>\n",
       "      <td>1945-02-23<\/td>\n",
       "      <td>Pacific Theater<\/td>\n",
       "      <td>5 AF<\/td>\n",
       "      <td>USA<\/td>\n",
       "      <td>&lt;NA&gt;<\/td>\n",
       "      <td>Philippine Islands<\/td>\n",
       "      <td>BALETE PASS<\/td>\n",
       "      <td>WOODED AREA<\/td>\n",
       "      <td>...<\/td>\n",
       "      <td>NaN<\/td>\n",
       "      <td>&lt;NA&gt;<\/td>\n",
       "      <td>&lt;NA&gt;<\/td>\n",
       "      <td>NaN<\/td>\n",
       "      <td>NaN<\/td>\n",
       "      <td>NaN<\/td>\n",
       "      <td>&lt;NA&gt;<\/td>\n",
       "      <td>&lt;NA&gt;<\/td>\n",
       "      <td>1945-02<\/td>\n",
       "      <td>1945<\/td>\n",
       "    <\/tr>\n",
       "  <\/tbody>\n",
       "<\/table>\n",
       "<p>5 rows × 36 columns<\/p>\n",
       "<\/div>"
      ]
     },
     "metadata":{
      
     },
     "output_type":"display_data"
    }
   ],
   "metadata":{
    "datalore":{
     "node_id":"dNqM7d85NJWVCQnUv4L1yc",
     "type":"CODE",
     "hide_input_from_viewers":true,
     "hide_output_from_viewers":true
    }
   }
  },
  {
   "cell_type":"markdown",
   "source":[
    "# Pt 2. Data Exploration"
   ],
   "attachments":{
    
   },
   "metadata":{
    "datalore":{
     "node_id":"fYZdQFYQzdvn6Qm16ioqd5",
     "type":"MD",
     "hide_input_from_viewers":true,
     "hide_output_from_viewers":true
    }
   }
  },
  {
   "cell_type":"markdown",
   "source":[
    "### Create two DataFrame copies, one for US missions and another for Great Britian, we'll use these frequently for comparison.\n",
    " "
   ],
   "attachments":{
    
   },
   "metadata":{
    "datalore":{
     "node_id":"VCmveYiRdloPXpj5xJZna1",
     "type":"MD",
     "hide_input_from_viewers":true,
     "hide_output_from_viewers":true
    }
   }
  },
  {
   "cell_type":"code",
   "source":[
    "us_missions = thor_df[thor_df[\"COUNTRY_FLYING_MISSION\"] == \"USA\"]\n",
    "gb_missions = thor_df[thor_df[\"COUNTRY_FLYING_MISSION\"] == \"Great Britain\"]"
   ],
   "execution_count":16,
   "outputs":[
    
   ],
   "metadata":{
    "datalore":{
     "node_id":"dGo4WwrbvyZIqg7lJhifpc",
     "type":"CODE",
     "hide_input_from_viewers":true,
     "hide_output_from_viewers":true
    }
   }
  },
  {
   "cell_type":"markdown",
   "source":[
    
   ],
   "attachments":{
    
   },
   "metadata":{
    "datalore":{
     "node_id":"uvWOCDYQcWQkEq6D1uTfTP",
     "type":"MD",
     "hide_input_from_viewers":true,
     "hide_output_from_viewers":true
    }
   }
  },
  {
   "cell_type":"markdown",
   "source":[
    "## 1. Country Flying Missions"
   ],
   "attachments":{
    
   },
   "metadata":{
    "datalore":{
     "node_id":"wzgMN9vspjIWrQpX3wb3zx",
     "type":"MD",
     "hide_input_from_viewers":true,
     "hide_output_from_viewers":true
    }
   }
  },
  {
   "cell_type":"code",
   "source":[
    "# Plot Number of Missions by Country\n",
    "plt.figure(figsize=(10,8))\n",
    "plt.rcParams.update({'font.size': 12})\n",
    "plt.title(\"Number of Missions Flown by Country\")\n",
    "sns.countplot(x=thor_df[\"COUNTRY_FLYING_MISSION\"])\n",
    "plt.ylabel(\"Missions Flown\")\n",
    "plt.tight_layout()\n",
    "plt.show()"
   ],
   "execution_count":17,
   "outputs":[
    {
     "data":{
      "image\/png":"[encoded data removed]"
     },
     "metadata":{
      "image\/png":{
       
      }
     },
     "output_type":"display_data"
    }
   ],
   "metadata":{
    "datalore":{
     "node_id":"FwTF9hDcVTX3U10hnCIvtc",
     "type":"CODE",
     "hide_input_from_viewers":true,
     "hide_output_from_viewers":true
    }
   }
  },
  {
   "cell_type":"markdown",
   "source":[
    "### Group By COUNTRY_FLYING_MISSION"
   ],
   "attachments":{
    
   },
   "metadata":{
    "datalore":{
     "node_id":"YbYar5gg419LTL3D6uaenE",
     "type":"MD",
     "hide_input_from_viewers":true,
     "hide_output_from_viewers":true
    }
   }
  },
  {
   "cell_type":"code",
   "source":[
    "country_flying_df = thor_df.groupby(\"COUNTRY_FLYING_MISSION\").mean(numeric_only=True).round(2)\n",
    "country_flying_df = country_flying_df.sort_values(by=\"TOTAL_TONS\", ascending=False)\n",
    "country_flying_df.head()"
   ],
   "execution_count":18,
   "outputs":[
    {
     "data":{
      "text\/html":[
       "<div>\n",
       "<style scoped>\n",
       "    .dataframe tbody tr th:only-of-type {\n",
       "        vertical-align: middle;\n",
       "    }\n",
       "\n",
       "    .dataframe tbody tr th {\n",
       "        vertical-align: top;\n",
       "    }\n",
       "\n",
       "    .dataframe thead th {\n",
       "        text-align: right;\n",
       "    }\n",
       "<\/style>\n",
       "<table border=\"1\" class=\"dataframe\">\n",
       "  <thead>\n",
       "    <tr style=\"text-align: right;\">\n",
       "      <th><\/th>\n",
       "      <th>AC_ATTACKING<\/th>\n",
       "      <th>ALTITUDE<\/th>\n",
       "      <th>TONS_OF_HE<\/th>\n",
       "      <th>TOTAL_TONS<\/th>\n",
       "      <th>AC_AIRBORNE<\/th>\n",
       "      <th>AC_DROPPING<\/th>\n",
       "    <\/tr>\n",
       "    <tr>\n",
       "      <th>COUNTRY_FLYING_MISSION<\/th>\n",
       "      <th><\/th>\n",
       "      <th><\/th>\n",
       "      <th><\/th>\n",
       "      <th><\/th>\n",
       "      <th><\/th>\n",
       "      <th><\/th>\n",
       "    <\/tr>\n",
       "  <\/thead>\n",
       "  <tbody>\n",
       "    <tr>\n",
       "      <th>Great Britain<\/th>\n",
       "      <td>9.12<\/td>\n",
       "      <td>165.68<\/td>\n",
       "      <td>36.30<\/td>\n",
       "      <td>42.21<\/td>\n",
       "      <td>9.27<\/td>\n",
       "      <td>9.12<\/td>\n",
       "    <\/tr>\n",
       "    <tr>\n",
       "      <th>USA<\/th>\n",
       "      <td>9.23<\/td>\n",
       "      <td>109.50<\/td>\n",
       "      <td>17.08<\/td>\n",
       "      <td>18.32<\/td>\n",
       "      <td>13.32<\/td>\n",
       "      <td>13.46<\/td>\n",
       "    <\/tr>\n",
       "    <tr>\n",
       "      <th>New Zealand<\/th>\n",
       "      <td>8.21<\/td>\n",
       "      <td>6.25<\/td>\n",
       "      <td>9.13<\/td>\n",
       "      <td>4.17<\/td>\n",
       "      <td>6.60<\/td>\n",
       "      <td>NaN<\/td>\n",
       "    <\/tr>\n",
       "    <tr>\n",
       "      <th>Australia<\/th>\n",
       "      <td>3.68<\/td>\n",
       "      <td>40.77<\/td>\n",
       "      <td>1.50<\/td>\n",
       "      <td>1.57<\/td>\n",
       "      <td>4.32<\/td>\n",
       "      <td>4.12<\/td>\n",
       "    <\/tr>\n",
       "    <tr>\n",
       "      <th>South Africa<\/th>\n",
       "      <td>4.25<\/td>\n",
       "      <td>21.56<\/td>\n",
       "      <td>NaN<\/td>\n",
       "      <td>0.73<\/td>\n",
       "      <td>4.43<\/td>\n",
       "      <td>7.18<\/td>\n",
       "    <\/tr>\n",
       "  <\/tbody>\n",
       "<\/table>\n",
       "<\/div>"
      ]
     },
     "metadata":{
      
     },
     "output_type":"display_data"
    }
   ],
   "metadata":{
    "datalore":{
     "node_id":"zDtqNpdXmYJQrOHpzOM19a",
     "type":"CODE",
     "hide_input_from_viewers":true,
     "hide_output_from_viewers":true
    }
   }
  },
  {
   "cell_type":"code",
   "source":[
    "# Visualize countries ranked by Total Tons used. \n",
    "country_flying_df[\"TOTAL_TONS\"].plot(kind='bar', figsize=(10,8), use_index=True, fontsize=10, rot=25, ylabel=\"TOTAL_TONS\", xlabel=\"Country\", title=\"TOTAL_TONS by Country\")\n",
    "plt.show()"
   ],
   "execution_count":19,
   "outputs":[
    {
     "data":{
      "image\/png":"[encoded data removed]"
     },
     "metadata":{
      "image\/png":{
       
      }
     },
     "output_type":"display_data"
    }
   ],
   "metadata":{
    "datalore":{
     "node_id":"ojiVdHBKotVRPJ8BoqjkBK",
     "type":"CODE",
     "hide_input_from_viewers":true,
     "hide_output_from_viewers":true
    }
   }
  },
  {
   "cell_type":"markdown",
   "source":[
    
   ],
   "attachments":{
    
   },
   "metadata":{
    "datalore":{
     "node_id":"5A0EHkIIUtNkzRKyVux3Ry",
     "type":"MD",
     "hide_input_from_viewers":true,
     "hide_output_from_viewers":true
    }
   }
  },
  {
   "cell_type":"markdown",
   "source":[
    "## 2. Missions by Year"
   ],
   "attachments":{
    
   },
   "metadata":{
    "datalore":{
     "node_id":"fZUPxxr2VXirc6PRYjRiar",
     "type":"MD",
     "hide_input_from_viewers":true,
     "hide_output_from_viewers":true
    }
   }
  },
  {
   "cell_type":"code",
   "source":[
    "# Create a DataFrame copy so we can modify row\/column values if necessary without editing our original DataFrame\n",
    "temp = thor_df.copy()\n",
    "temp[\"MSNMONTH\"] = pd.to_datetime(temp[\"MSNMONTH\"])"
   ],
   "execution_count":20,
   "outputs":[
    
   ],
   "metadata":{
    "datalore":{
     "node_id":"NW5R9argT6sLksx2Frv7ef",
     "type":"CODE",
     "hide_input_from_viewers":true,
     "hide_output_from_viewers":true
    }
   }
  },
  {
   "cell_type":"code",
   "source":[
    "# Missions Timeline\n",
    "count_ms_month = temp[\"MSNMONTH\"].value_counts().sort_index(ascending=True)\n",
    "\n",
    "# Plot Data\n",
    "plt.figure(figsize=[20,10])\n",
    "plt.rcParams.update({'font.size': 14})\n",
    "plt.title('Missions by Year (All Countries)')\n",
    "plt.plot(count_ms_month, linewidth ='3.0')\n",
    "plt.gcf().autofmt_xdate()\n",
    "plt.show()"
   ],
   "execution_count":21,
   "outputs":[
    {
     "data":{
      "image\/png":"[encoded data removed]"
     },
     "metadata":{
      "image\/png":{
       
      }
     },
     "output_type":"display_data"
    }
   ],
   "metadata":{
    "datalore":{
     "node_id":"fshFpEkoOcQUqRiXpEganJ",
     "type":"CODE",
     "hide_input_from_viewers":true,
     "hide_output_from_viewers":true
    }
   }
  },
  {
   "cell_type":"code",
   "source":[
    "# Missions Timeline - USA vs GB\n",
    "\n",
    "us_missions_by_year = temp[\"MSNMONTH\"][temp[\"COUNTRY_FLYING_MISSION\"] == \"USA\"].value_counts().sort_index(ascending=True)\n",
    "gb_missions_by_year = temp[\"MSNMONTH\"][temp[\"COUNTRY_FLYING_MISSION\"] == \"Great Britain\"].value_counts().sort_index(ascending=True)\n",
    "\n",
    "# Plot data\n",
    "plt.figure(figsize=(20,10))\n",
    "plt.rcParams.update({'font.size': 14})\n",
    "plt.plot(us_missions_by_year, linewidth ='3.0')\n",
    "plt.plot(gb_missions_by_year, color=\"red\", linewidth ='3.0')\n",
    "plt.legend([\"USA\", \"Great Britain\"])\n",
    "plt.title(\"Missions by Year | USA vs Great Britain\")\n",
    "plt.gcf().autofmt_xdate()\n",
    "plt.show()"
   ],
   "execution_count":22,
   "outputs":[
    {
     "data":{
      "image\/png":"[encoded data removed]"
     },
     "metadata":{
      "image\/png":{
       
      }
     },
     "output_type":"display_data"
    }
   ],
   "metadata":{
    "datalore":{
     "node_id":"8QLGjXopbcGQFtwzBDC3nt",
     "type":"CODE",
     "hide_input_from_viewers":true,
     "hide_output_from_viewers":true
    }
   }
  },
  {
   "cell_type":"markdown",
   "source":[
    
   ],
   "attachments":{
    
   },
   "metadata":{
    "datalore":{
     "node_id":"PcQ6ncuD4M3MLWCktxtYGm",
     "type":"MD",
     "hide_input_from_viewers":true,
     "hide_output_from_viewers":true
    }
   }
  },
  {
   "cell_type":"markdown",
   "source":[
    "## Target Country"
   ],
   "attachments":{
    
   },
   "metadata":{
    "datalore":{
     "node_id":"dQ94DT6u7LJ28eiZnzTpfp",
     "type":"MD",
     "hide_input_from_viewers":true,
     "hide_output_from_viewers":true
    }
   }
  },
  {
   "cell_type":"code",
   "source":[
    "most_targeted = thor_df[\"TGT_COUNTRY\"].value_counts()[:10].sort_values(ascending=True)\n",
    "targeted_countries = most_targeted.index.to_list()\n",
    "top5_targets = thor_df[thor_df[\"TGT_COUNTRY\"].isin(targeted_countries)]\n",
    "\n",
    "# Plot top5_targets\n",
    "plt.figure(figsize=(15,8))\n",
    "plt.rcParams.update({'font.size': 9})\n",
    "plt.title(\"Most Targeted Countries\")\n",
    "sns.countplot(x=top5_targets[\"TGT_COUNTRY\"], order=top5_targets[\"TGT_COUNTRY\"].value_counts().index)\n",
    "plt.xlabel(\"Country Targeted\")\n",
    "plt.ylabel(\"Missions Targeted\")\n",
    "plt.show()"
   ],
   "execution_count":26,
   "outputs":[
    {
     "data":{
      "image\/png":"[encoded data removed]"
     },
     "metadata":{
      "image\/png":{
       
      }
     },
     "output_type":"display_data"
    }
   ],
   "metadata":{
    "datalore":{
     "node_id":"LkOaqD0sMRNWfhVmicZbqo",
     "type":"CODE",
     "hide_input_from_viewers":true,
     "hide_output_from_viewers":true
    }
   }
  },
  {
   "cell_type":"code",
   "source":[
    "# Group By TGT_COUNTRY\n",
    "tgt_country_df = thor_df.groupby(\"TGT_COUNTRY\").mean(numeric_only=True).round(2)\n",
    "tgt_country_df"
   ],
   "execution_count":24,
   "outputs":[
    {
     "data":{
      "text\/html":[
       "<div>\n",
       "<style scoped>\n",
       "    .dataframe tbody tr th:only-of-type {\n",
       "        vertical-align: middle;\n",
       "    }\n",
       "\n",
       "    .dataframe tbody tr th {\n",
       "        vertical-align: top;\n",
       "    }\n",
       "\n",
       "    .dataframe thead th {\n",
       "        text-align: right;\n",
       "    }\n",
       "<\/style>\n",
       "<table border=\"1\" class=\"dataframe\">\n",
       "  <thead>\n",
       "    <tr style=\"text-align: right;\">\n",
       "      <th><\/th>\n",
       "      <th>AC_ATTACKING<\/th>\n",
       "      <th>ALTITUDE<\/th>\n",
       "      <th>TONS_OF_HE<\/th>\n",
       "      <th>TOTAL_TONS<\/th>\n",
       "      <th>AC_AIRBORNE<\/th>\n",
       "      <th>AC_DROPPING<\/th>\n",
       "    <\/tr>\n",
       "    <tr>\n",
       "      <th>TGT_COUNTRY<\/th>\n",
       "      <th><\/th>\n",
       "      <th><\/th>\n",
       "      <th><\/th>\n",
       "      <th><\/th>\n",
       "      <th><\/th>\n",
       "      <th><\/th>\n",
       "    <\/tr>\n",
       "  <\/thead>\n",
       "  <tbody>\n",
       "    <tr>\n",
       "      <th>\"Papua New Guinea, Manus Island\"<\/th>\n",
       "      <td>2.67<\/td>\n",
       "      <td>65.00<\/td>\n",
       "      <td>4.00<\/td>\n",
       "      <td>4.00<\/td>\n",
       "      <td>2.67<\/td>\n",
       "      <td>2.67<\/td>\n",
       "    <\/tr>\n",
       "    <tr>\n",
       "      <th>Albania<\/th>\n",
       "      <td>7.54<\/td>\n",
       "      <td>144.15<\/td>\n",
       "      <td>31.06<\/td>\n",
       "      <td>9.77<\/td>\n",
       "      <td>22.60<\/td>\n",
       "      <td>7.54<\/td>\n",
       "    <\/tr>\n",
       "    <tr>\n",
       "      <th>Aleutian Islands<\/th>\n",
       "      <td>4.43<\/td>\n",
       "      <td>45.29<\/td>\n",
       "      <td>4.65<\/td>\n",
       "      <td>4.61<\/td>\n",
       "      <td>NaN<\/td>\n",
       "      <td>NaN<\/td>\n",
       "    <\/tr>\n",
       "    <tr>\n",
       "      <th>Algeria<\/th>\n",
       "      <td>NaN<\/td>\n",
       "      <td>105.00<\/td>\n",
       "      <td>9.00<\/td>\n",
       "      <td>9.00<\/td>\n",
       "      <td>NaN<\/td>\n",
       "      <td>NaN<\/td>\n",
       "    <\/tr>\n",
       "    <tr>\n",
       "      <th>Andaman Islands<\/th>\n",
       "      <td>3.38<\/td>\n",
       "      <td>5000.00<\/td>\n",
       "      <td>5.33<\/td>\n",
       "      <td>5.33<\/td>\n",
       "      <td>3.38<\/td>\n",
       "      <td>3.38<\/td>\n",
       "    <\/tr>\n",
       "    <tr>\n",
       "      <th>...<\/th>\n",
       "      <td>...<\/td>\n",
       "      <td>...<\/td>\n",
       "      <td>...<\/td>\n",
       "      <td>...<\/td>\n",
       "      <td>...<\/td>\n",
       "      <td>...<\/td>\n",
       "    <\/tr>\n",
       "    <tr>\n",
       "      <th>Unknown<\/th>\n",
       "      <td>9.00<\/td>\n",
       "      <td>37.89<\/td>\n",
       "      <td>4.21<\/td>\n",
       "      <td>4.21<\/td>\n",
       "      <td>NaN<\/td>\n",
       "      <td>NaN<\/td>\n",
       "    <\/tr>\n",
       "    <tr>\n",
       "      <th>Unknown Or Not Indicated<\/th>\n",
       "      <td>6.37<\/td>\n",
       "      <td>94.81<\/td>\n",
       "      <td>18.16<\/td>\n",
       "      <td>17.18<\/td>\n",
       "      <td>6.37<\/td>\n",
       "      <td>6.37<\/td>\n",
       "    <\/tr>\n",
       "    <tr>\n",
       "      <th>Volcano And Bonin Islands<\/th>\n",
       "      <td>5.57<\/td>\n",
       "      <td>122.90<\/td>\n",
       "      <td>10.26<\/td>\n",
       "      <td>9.24<\/td>\n",
       "      <td>NaN<\/td>\n",
       "      <td>NaN<\/td>\n",
       "    <\/tr>\n",
       "    <tr>\n",
       "      <th>Wake Island<\/th>\n",
       "      <td>4.52<\/td>\n",
       "      <td>123.99<\/td>\n",
       "      <td>8.75<\/td>\n",
       "      <td>8.78<\/td>\n",
       "      <td>NaN<\/td>\n",
       "      <td>NaN<\/td>\n",
       "    <\/tr>\n",
       "    <tr>\n",
       "      <th>Yugoslavia<\/th>\n",
       "      <td>18.58<\/td>\n",
       "      <td>189.57<\/td>\n",
       "      <td>38.15<\/td>\n",
       "      <td>38.79<\/td>\n",
       "      <td>18.69<\/td>\n",
       "      <td>18.58<\/td>\n",
       "    <\/tr>\n",
       "  <\/tbody>\n",
       "<\/table>\n",
       "<p>90 rows × 6 columns<\/p>\n",
       "<\/div>"
      ]
     },
     "metadata":{
      
     },
     "output_type":"display_data"
    }
   ],
   "metadata":{
    "datalore":{
     "node_id":"YKDvb04gl9q0rq5hrvIgdQ",
     "type":"CODE",
     "hide_input_from_viewers":true,
     "hide_output_from_viewers":true
    }
   }
  },
  {
   "cell_type":"markdown",
   "source":[
    
   ],
   "attachments":{
    
   },
   "metadata":{
    "datalore":{
     "node_id":"461J72deH0IFBwCaBXul0J",
     "type":"MD",
     "hide_input_from_viewers":true,
     "hide_output_from_viewers":true
    }
   }
  },
  {
   "cell_type":"markdown",
   "source":[
    "## TOTAL_TONS"
   ],
   "attachments":{
    
   },
   "metadata":{
    "datalore":{
     "node_id":"SQykqN3iIfhQwvQqstFWle",
     "type":"MD",
     "hide_input_from_viewers":true,
     "hide_output_from_viewers":true
    }
   }
  },
  {
   "cell_type":"code",
   "source":[
    "temp = thor_df[thor_df[\"TOTAL_TONS\"] < 200]\n",
    "temp[\"TOTAL_TONS\"].hist(figsize=(10, 6))\n",
    "plt.show()"
   ],
   "execution_count":25,
   "outputs":[
    {
     "data":{
      "image\/png":"[encoded data removed]"
     },
     "metadata":{
      "image\/png":{
       
      }
     },
     "output_type":"display_data"
    }
   ],
   "metadata":{
    "datalore":{
     "node_id":"ZqN1pkDH0LZtec9nGjhJBX",
     "type":"CODE",
     "hide_input_from_viewers":true,
     "hide_output_from_viewers":true
    }
   }
  },
  {
   "cell_type":"code",
   "source":[
    "# Box Plot\n",
    "plt.figure(figsize=(10, 6))\n",
    "plt.title(\"TOTAL_TONS\")\n",
    "plt.boxplot(temp[\"TOTAL_TONS\"]) \n",
    "plt.show()"
   ],
   "execution_count":61,
   "outputs":[
    {
     "data":{
      "image\/png":"[encoded data removed]"
     },
     "metadata":{
      "image\/png":{
       
      }
     },
     "output_type":"display_data"
    }
   ],
   "metadata":{
    "datalore":{
     "node_id":"QRuioJEHfAiN0lwxHh1wD2",
     "type":"CODE",
     "hide_input_from_viewers":true,
     "hide_output_from_viewers":true
    }
   }
  },
  {
   "cell_type":"markdown",
   "source":[
    
   ],
   "attachments":{
    
   },
   "metadata":{
    "datalore":{
     "node_id":"uin0tpjFXdtL6sAUCzxuZe",
     "type":"MD",
     "hide_input_from_viewers":true,
     "hide_output_from_viewers":true
    }
   }
  },
  {
   "cell_type":"markdown",
   "source":[
    "## THEATER"
   ],
   "attachments":{
    
   },
   "metadata":{
    "datalore":{
     "node_id":"cEmNG4xPT8GEwToYLsPYrJ",
     "type":"MD",
     "hide_input_from_viewers":true,
     "hide_output_from_viewers":true
    }
   }
  },
  {
   "cell_type":"code",
   "source":[
    "# Plot Number of Missions by Theater\n",
    "plt.figure(figsize=(15,8))\n",
    "plt.rcParams.update({'font.size': 9})\n",
    "plt.title(\"Missions by Theater of Operation\")\n",
    "sns.countplot(x=thor_df[\"THEATER\"], order=thor_df[\"THEATER\"].value_counts().index)\n",
    "plt.xlabel(\"Theater\")\n",
    "plt.ylabel(\"Missions\")\n",
    "plt.show()"
   ],
   "execution_count":27,
   "outputs":[
    {
     "data":{
      "image\/png":"[encoded data removed]"
     },
     "metadata":{
      "image\/png":{
       
      }
     },
     "output_type":"display_data"
    }
   ],
   "metadata":{
    "datalore":{
     "node_id":"i3iXQESqc0z4W0B5Mw1CxW",
     "type":"CODE",
     "hide_input_from_viewers":true,
     "hide_output_from_viewers":true
    }
   }
  }
 ],
 "metadata":{
  "kernelspec":{
   "display_name":"Python",
   "language":"python",
   "name":"python"
  },
  "datalore":{
   "computation_mode":"JUPYTER",
   "package_manager":"pip",
   "base_environment":"default",
   "packages":[
    
   ],
   "report_row_ids":[
    
   ],
   "version":3
  }
 },
 "nbformat":4,
 "nbformat_minor":4
}